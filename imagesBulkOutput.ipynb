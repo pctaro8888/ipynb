## ----------------------------------------------
## 機能名　：imagesBulkOutput.ipynb
## 機能概要：画像生成インターフェース画面を表示。箇条書きで複数の種類の画像を生成する。
## 引数  　：なし
## 作成日　：2025.05.22
## ----------------------------------------------
# 1. 必要なライブラリをインストール（初回のみ）
!pip install diffusers transformers accelerate gradio safetensors --quiet

# 2. Hugging Faceログイン
from huggingface_hub import login
login(token="YOUR_TOKEN")  # ← トークンを貼り付け

# 3. モデルと翻訳準備
from diffusers import StableDiffusionPipeline
import torch
from transformers import pipeline
from PIL import Image
import gradio as gr
import os

pipe = StableDiffusionPipeline.from_pretrained(
    "runwayml/stable-diffusion-v1-5",
    torch_dtype=torch.float16,
    use_safetensors=True
).to("cuda")

translator = pipeline("translation", model="Helsinki-NLP/opus-mt-ja-en")

# 4. Google Drive マウント
from google.colab import drive
drive.mount('/content/drive')

save_dir = "/content/drive/MyDrive/画像生成"
os.makedirs(save_dir, exist_ok=True)

# 5. UIで呼ばれる関数（複数行対応）
def generate_images(jp_prompts):
    images = []
    messages = []

    for jp_prompt in jp_prompts.strip().split('\n'):
        if not jp_prompt.strip():
            continue
        en_prompt = translator(jp_prompt)[0]['translation_text']
        image = pipe(en_prompt).images[0]
        save_path = os.path.join(save_dir, f"{en_prompt}.png")
        image.save(save_path)
        images.append(image)
        messages.append(f"{jp_prompt} → {save_path}")

    return images, "\n".join(messages)

# 6. Gradio UI構築
with gr.Blocks() as demo:
    gr.Markdown("## 🖼️ 日本語プロンプトで一括画像生成")
    jp_input = gr.Textbox(label="プロンプト（複数行OK）", lines=5, placeholder="例：\n地下鉄の改札\n桜の下で犬が遊ぶ")
    btn = gr.Button("一括画像生成")
    gallery = gr.Gallery(label="生成された画像たち")
    msg = gr.Textbox(label="保存先", interactive=False)

    btn.click(fn=generate_images, inputs=jp_input, outputs=[gallery, msg])

demo.launch(share=True)
