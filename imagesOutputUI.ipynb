## ----------------------------------------------
## 機能名　：imagesOutputUI.ipynb
## 機能概要：画像生成インターフェース画面を表示。一つのキーワードに対し、複数の画像を生成できる。
## 引数  　：なし
## 作成日　：2025.05.22
## ----------------------------------------------
!pip install icrawler gradio --quiet

from icrawler.builtin import GoogleImageCrawler
import os
import gradio as gr
from glob import glob
from PIL import Image

def crawl_images(keyword, max_num=5):
    save_dir = "/content/drive/MyDrive/icrawler_images/"
    os.makedirs(save_dir, exist_ok=True)

    crawler = GoogleImageCrawler(storage={'root_dir': save_dir})
    crawler.crawl(keyword=keyword, max_num=int(max_num))

    image_paths = glob(f"{save_dir}/*.jpg")
    image_paths += glob(f"{save_dir}/*.png")

    # PIL画像のリストを返す（Gradioで表示）
    return [Image.open(img) for img in image_paths[:max_num]]

# Gradio UI構築
demo = gr.Interface(
    fn=crawl_images,
    inputs=[
        gr.Textbox(label="画像キーワードを入力", placeholder="例: 富士山"),
        gr.Slider(1, 10, step=1, label="最大枚数")
    ],
    outputs=gr.Gallery(label="収集した画像"),
    title="画像収集インターフェース（Google画像検索）"
)

demo.launch()
